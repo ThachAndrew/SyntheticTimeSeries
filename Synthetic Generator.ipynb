{
 "cells": [
  {
   "cell_type": "markdown",
   "id": "cebc8a65",
   "metadata": {},
   "source": [
    "## This notebook generates time series data in different ways: without regression, with regression."
   ]
  },
  {
   "cell_type": "code",
   "execution_count": null,
   "id": "efff6284",
   "metadata": {},
   "outputs": [],
   "source": [
    "#from timeseries_generator import LinearTrend, Generator, WhiteNoise, RandomFeatureFactor\n",
    "#import pandas as pd\n",
    "#%matplotlib inline\n",
    "\n",
    "\n",
    "import pandas as pd\n",
    "from pandas._libs.tslibs.timestamps import Timestamp\n",
    "from timeseries_generator.external_factors import CountryGdpFactor, EUIndustryProductFactor\n",
    "from timeseries_generator import Generator, HolidayFactor, LinearTrend, RandomFeatureFactor, SinusoidalFactor, WeekdayFactor, WhiteNoise\n",
    "\n",
    "import matplotlib.pyplot as plt"
   ]
  },
  {
   "cell_type": "markdown",
   "id": "81f7cd52",
   "metadata": {},
   "source": [
    "# Setting up parameters (this model doesn't support regression, see further below for regressive parameters)"
   ]
  },
  {
   "cell_type": "code",
   "execution_count": null,
   "id": "75866983",
   "metadata": {},
   "outputs": [],
   "source": [
    "# The python package \"timeseries_generator\" implements day-increment granularity.\n",
    "# The columns will have to be manually\n",
    "start_date = Timestamp(\"01-01-2020\")\n",
    "end_date = Timestamp(\"01-01-2021\")\n",
    "\n",
    "features_dict = {\n",
    "        \"station\": [\"station_1\", \"station_2\"],\n",
    "        \"product\": [\"bikes\"]\n",
    "}\n",
    "\n",
    "\n",
    "linear_trend = LinearTrend(coef=1.0, offset=1., col_name=\"my_linear_trend\")\n",
    "white_noise = WhiteNoise(stdev_factor=0.05)\n",
    "\n",
    "seasonality = SinusoidalFactor(\n",
    "    feature=\"product\",\n",
    "    col_name=\"product_seasonal_trend_factor\",\n",
    "    feature_values={\n",
    "        \"bikes\": {\n",
    "            \"wavelength\": 365.,\n",
    "            \"amplitude\": 0.2,\n",
    "            \"phase\": 365/4,\n",
    "            \"mean\": 1.\n",
    "        }\n",
    "    }\n",
    ")\n",
    "\n",
    "\n",
    "weekday_factor = WeekdayFactor(\n",
    "    col_name=\"weekend_boost_factor\",\n",
    "    factor_values={4: 1.15, 5: 1.3, 6: 1.3}  # Here we assign a factor of 1.15 to Friday, and 1.3 to Sat/Sun \n",
    ")\n",
    "\n",
    "\n",
    "# Plotting the parameters\n",
    "linear_trend.plot(start_date=start_date, end_date=end_date)\n",
    "white_noise.plot(start_date=start_date, end_date=end_date)\n",
    "seasonality.plot(start_date=start_date, end_date=end_date)\n",
    "weekday_factor.plot(start_date=start_date, end_date=end_date)  # Using a smaller timerange here to keep the plot viewable\n",
    "\n"
   ]
  },
  {
   "cell_type": "markdown",
   "id": "99728f1a",
   "metadata": {},
   "source": [
    "# Creating generator"
   ]
  },
  {
   "cell_type": "code",
   "execution_count": null,
   "id": "c7cc69b5",
   "metadata": {},
   "outputs": [],
   "source": [
    "g: Generator = Generator(\n",
    "    factors={\n",
    "        linear_trend,\n",
    "        seasonality,\n",
    "        white_noise,\n",
    "        #weekday_factor,\n",
    "    },\n",
    "    features=features_dict,\n",
    "    date_range=pd.date_range(start=start_date, end=end_date),\n",
    "    base_value=10\n",
    ")\n",
    "    \n",
    "df = g.generate()"
   ]
  },
  {
   "cell_type": "code",
   "execution_count": null,
   "id": "4ab96fd0",
   "metadata": {},
   "outputs": [],
   "source": [
    "\n",
    "plot_df = df.set_index('date')\n",
    "plot_df[['station', 'product', 'value']].pivot(columns=['station', 'product'], values='value').plot(figsize=(24,8))"
   ]
  },
  {
   "cell_type": "code",
   "execution_count": null,
   "id": "46efb1be",
   "metadata": {},
   "outputs": [],
   "source": [
    "df.head()"
   ]
  },
  {
   "cell_type": "markdown",
   "id": "c05a92be",
   "metadata": {},
   "source": [
    "# AR Fitting (with the above non-regressive time series)"
   ]
  },
  {
   "cell_type": "code",
   "execution_count": null,
   "id": "582f9216",
   "metadata": {},
   "outputs": [],
   "source": [
    "import math\n",
    "import matplotlib.pyplot as plt\n",
    "from statsmodels.tsa.seasonal import seasonal_decompose\n",
    "from pmdarima import auto_arima"
   ]
  },
  {
   "cell_type": "markdown",
   "id": "97d8a2f9",
   "metadata": {},
   "source": [
    "## First, visualize the decomposition"
   ]
  },
  {
   "cell_type": "code",
   "execution_count": null,
   "id": "b2e4d374",
   "metadata": {},
   "outputs": [],
   "source": [
    "series = df.copy()\n",
    "# filtering out the other stations. \n",
    "series = series[series[\"station\"] == \"station_1\"]\n",
    "\n",
    "# make first column a datetime format\n",
    "series.index = pd.to_datetime(series.date)\n",
    "# filter out factors \"collapses the columns\" into a value\n",
    "series = series['value']\n",
    "\n",
    "series.head()\n",
    "\n",
    "decomp = seasonal_decompose(series, model='multiplicative')\n",
    "decomp.plot()\n"
   ]
  },
  {
   "cell_type": "markdown",
   "id": "d4149999",
   "metadata": {},
   "source": [
    "## Attempt to fit the data"
   ]
  },
  {
   "cell_type": "code",
   "execution_count": null,
   "id": "74be7d7f",
   "metadata": {},
   "outputs": [],
   "source": [
    "train = series.iloc[:math.floor(series.shape[0] * 0.8)]\n",
    "test  = series.iloc[math.ceil(series.shape[0] * 0.8):]\n",
    "\n",
    "print(\"Shape of train is: \", train.shape)\n",
    "print(\"Shape of test is: \", test.shape)"
   ]
  },
  {
   "cell_type": "code",
   "execution_count": null,
   "id": "681e34e6",
   "metadata": {},
   "outputs": [],
   "source": [
    "stepwise_model = auto_arima(series, start_p=1, start_q=1,\n",
    "                           max_p=3, max_q=3, m=12,\n",
    "                           start_P=0, seasonal=True,\n",
    "                           d=1, D=1, trace=True,\n",
    "                           error_action='ignore',\n",
    "                           suppress_warnings=True,\n",
    "                           stepwise=True)\n",
    "\n",
    "print(stepwise_model.aic())"
   ]
  },
  {
   "cell_type": "markdown",
   "id": "2cbf703f",
   "metadata": {},
   "source": [
    "# Using ARMA-simulator to create regressive time series."
   ]
  },
  {
   "cell_type": "markdown",
   "id": "cdd1b9a5",
   "metadata": {},
   "source": [
    "## First define the class generator"
   ]
  },
  {
   "cell_type": "code",
   "execution_count": null,
   "id": "97f45987",
   "metadata": {},
   "outputs": [],
   "source": [
    "# Source: https://github.com/igarizio/ARMA-simulator\n",
    "import numpy as np\n",
    "\n",
    "\n",
    "class ARMA:\n",
    "    \"\"\"Class that generates WN, AR, MA and ARMA processes.\"\"\"\n",
    "\n",
    "    @staticmethod\n",
    "    def generate_wn(n, sigma=1):\n",
    "        \"\"\"Generates a white noise series.\n",
    "\n",
    "        The code follows:\n",
    "        y_{t} = \\epsilon_{t}\n",
    "\n",
    "        Args:\n",
    "            n: length of the series.\n",
    "            sigma: standard deviation of the innovations.\n",
    "\n",
    "        Returns:\n",
    "            np.Array with the series.\n",
    "\n",
    "        \"\"\"\n",
    "        return np.random.normal(0, sigma, size=n)\n",
    "\n",
    "    @staticmethod\n",
    "    def generate_ma(n, thetas, mu, sigma=1):\n",
    "        \"\"\"Generates a moving average series.\n",
    "\n",
    "        The code follows:\n",
    "        y_{t} = \\mu + \\epsilon_{t} + \\theta_{1}\\epsilon_{t-1} + \\theta_{2}\\epsilon_{t-2} + ... + \\theta_{q}\\epsilon_{t-q}\n",
    "\n",
    "        Args:\n",
    "            n: length of the series.\n",
    "            thetas: list of thetas, in the order \\theta_{1}, \\theta_{2}, ..., \\theta_{q}.\n",
    "            mu: base constant.\n",
    "            sigma: standard deviation of the innovations (optional).\n",
    "\n",
    "        Returns:\n",
    "            np.Array with the series.\n",
    "\n",
    "        \"\"\"\n",
    "        q = len(thetas)\n",
    "        adj_n = n + q  # We add q values because at the beginning we have no thetas available.\n",
    "        e_series = ARMA.generate_wn(adj_n, sigma)  # Generating a white noise.\n",
    "\n",
    "        ma = []\n",
    "        for i in range(1, adj_n):\n",
    "            visible_thetas = thetas[0:min(q, i)]  # At first, we only \"see\" some of the thetas.\n",
    "            visible_e_series = e_series[i - min(q, i):i]  # The same happens to the white noise.\n",
    "\n",
    "            reversed_thetas = visible_thetas[::-1]\n",
    "\n",
    "            try:  # Getting e_t if we can.\n",
    "                e_t = visible_e_series[-1]\n",
    "            except IndexError:\n",
    "                e_t = 0\n",
    "\n",
    "            # Main equation.\n",
    "            ma_t = mu + e_t + np.dot(reversed_thetas, visible_e_series)\n",
    "\n",
    "            ma.append(ma_t)\n",
    "\n",
    "        ma = ma[max(q-1, 0):]  # Dropping the first values that did not use all the thetas.\n",
    "\n",
    "        return ma\n",
    "\n",
    "    @staticmethod\n",
    "    def generate_ar(n, phis, sigma=1):\n",
    "        \"\"\"Generates an autoregressive series.\n",
    "\n",
    "        The code follows:\n",
    "        y_{t} = \\phi_{1} y_{t-1} + \\phi_{2} y_{t-2} + ... + \\phi_{p} y_{t-p} + \\epsilon_{t}\n",
    "\n",
    "        Args:\n",
    "            n: length of the series.\n",
    "            phis: list of thetas, in the order \\phi_{1}, \\phi_{2}, ..., \\phi_{p}.\n",
    "            sigma: standard deviation of the innovations (optional).\n",
    "\n",
    "        Returns:\n",
    "            np.Array with the series.\n",
    "\n",
    "        \"\"\"\n",
    "        p = len(phis)\n",
    "        adj_n = n + p  # We add q values because at the beginning we have no phis available.\n",
    "        e_series = ARMA.generate_wn(adj_n, sigma)  # Generating a white noise.\n",
    "\n",
    "        ar = [e_series[0]]  # We start the series with a random value\n",
    "        for i in range(1, adj_n):\n",
    "            visible_phis = phis[0:min(p, i)]  # At first, we only \"see\" some of the phis.\n",
    "            visible_series = ar[i - min(p, i):i]  # The same happens to the white noise.\n",
    "\n",
    "            reversed_phis = visible_phis[::-1]\n",
    "\n",
    "            # Main equation.\n",
    "            ar_t = e_series[i] + np.dot(reversed_phis, visible_series)\n",
    "\n",
    "            ar.append(ar_t)\n",
    "\n",
    "        ar = ar[p:]  # Dropping the first values that did not use all the phis.\n",
    "\n",
    "        return ar\n",
    "\n",
    "    @staticmethod\n",
    "    def generate_arma(n, phis, thetas, mu, sigma=1):\n",
    "        \"\"\"Generates an autoregressive moving average series.\n",
    "\n",
    "        The code follows:\n",
    "        y_{t} = \\mu + \\phi_{1} y_{t-1} + \\phi_{2} y_{t-2} + ... + \\phi_{p} y_{t-p} + \\epsilon_{t} + \\theta_{1}\\epsilon_{t-1} + \\theta_{2}\\epsilon_{t-2} + ... + \\theta_{q}\\epsilon_{t-q}\n",
    "\n",
    "        Args:\n",
    "            n: length of the series.\n",
    "            phis: list of thetas, in the order \\phi_{1}, \\phi_{2}, ..., \\phi_{p}.\n",
    "            thetas: list of thetas, in the order \\theta_{1}, \\theta_{2}, ..., \\theta_{q}.\n",
    "            mu: base constant.\n",
    "            sigma: standard deviation of the innovations (optional).\n",
    "\n",
    "        Returns:\n",
    "            np.Array with the series.\n",
    "\n",
    "        \"\"\"\n",
    "        p = len(phis)\n",
    "        q = len(thetas)\n",
    "\n",
    "        adj_n = n + max(p, q)  # We use max to make sure we cover the lack of coefficients.\n",
    "        e_series = ARMA.generate_wn(adj_n)  # Base white noise.\n",
    "\n",
    "        arma = [e_series[0]]  # We start the series with a random value (same as AR).\n",
    "        for i in range(1, adj_n):\n",
    "            visible_phis = phis[0:min(p, i)]\n",
    "            visible_thetas = thetas[0:min(q, i)]\n",
    "\n",
    "            reversed_phis = visible_phis[::-1]\n",
    "            reversed_thetas = visible_thetas[::-1]\n",
    "\n",
    "            visible_series = arma[i - min(p, i):i]\n",
    "            visible_e_series = e_series[i - min(q, i):i]\n",
    "            \n",
    "            try:  # Getting e_t if we can.\n",
    "                e_t = visible_e_series[-1]\n",
    "            except IndexError:\n",
    "                e_t = 0\n",
    "\n",
    "            # Main equation.\n",
    "            ar_t = + np.dot(reversed_phis, visible_series)\n",
    "            ma_t = mu + e_t + np.dot(reversed_thetas, visible_e_series)\n",
    "            arma_t = ar_t + ma_t\n",
    "\n",
    "            arma.append(arma_t)\n",
    "\n",
    "        arma = arma[max(p, q):]  # Dropping the first values that did not use all the phis or thetas.\n",
    "\n",
    "        return arma\n"
   ]
  },
  {
   "cell_type": "markdown",
   "id": "d57f106d",
   "metadata": {},
   "source": [
    "## Next, set up the parameters.  "
   ]
  },
  {
   "cell_type": "code",
   "execution_count": null,
   "id": "ce4a1796",
   "metadata": {},
   "outputs": [],
   "source": [
    "phis = [0.1, 0.2, 0.3]\n",
    "thetas = [0.1, 0.2, 0.5, 0.05]\n",
    "n = 300"
   ]
  },
  {
   "cell_type": "markdown",
   "id": "2d746cfa",
   "metadata": {},
   "source": [
    "## Plot them"
   ]
  },
  {
   "cell_type": "code",
   "execution_count": null,
   "id": "0a83498e",
   "metadata": {},
   "outputs": [],
   "source": [
    "arma_data   = ARMA.generate_arma(n, phis, thetas, mu=0)\n",
    "ar_data     = ARMA.generate_ar(n, phis)\n",
    "ma_data     = ARMA.generate_ma(n, thetas, mu=0)\n",
    "white_noise = ARMA.generate_wn(n)\n",
    "\n",
    "plt.title(\"ARMA\")\n",
    "plt.plot(arma_data)\n",
    "plt.show()\n",
    "\n",
    "plt.title(\"AR\")\n",
    "plt.plot(ar_data)\n",
    "plt.show()\n",
    "\n",
    "plt.title(\"MA\")\n",
    "plt.plot(ma_data)\n",
    "plt.show()\n",
    "\n",
    "plt.title(\"White noise\")\n",
    "plt.plot(white_noise)\n",
    "plt.show()"
   ]
  },
  {
   "cell_type": "code",
   "execution_count": null,
   "id": "decca3c0",
   "metadata": {},
   "outputs": [],
   "source": [
    "arma_data"
   ]
  },
  {
   "cell_type": "code",
   "execution_count": null,
   "id": "a137f056",
   "metadata": {},
   "outputs": [],
   "source": []
  },
  {
   "cell_type": "code",
   "execution_count": null,
   "id": "c0f00225",
   "metadata": {},
   "outputs": [],
   "source": []
  }
 ],
 "metadata": {
  "kernelspec": {
   "display_name": "Python 3 (ipykernel)",
   "language": "python",
   "name": "python3"
  },
  "language_info": {
   "codemirror_mode": {
    "name": "ipython",
    "version": 3
   },
   "file_extension": ".py",
   "mimetype": "text/x-python",
   "name": "python",
   "nbconvert_exporter": "python",
   "pygments_lexer": "ipython3",
   "version": "3.10.4"
  }
 },
 "nbformat": 4,
 "nbformat_minor": 5
}
